{
 "cells": [
  {
   "attachments": {},
   "cell_type": "markdown",
   "metadata": {},
   "source": [
    "# Programming Practice II\n",
    "## 1 Overview\n",
    "In this practice, you are asked to implement a neural network with one hidden layer for regression using NumPy only. In particular, you are expected to learn to\n",
    "* implement simple activation functions;\n",
    "* get familiar with gradient descent algorithms;\n",
    "* get familiar with back-propagation algorithms in neural networks."
   ]
  },
  {
   "attachments": {},
   "cell_type": "markdown",
   "metadata": {},
   "source": [
    "## 2 Tasks\n",
    "In this section, you can start the programming practice task by task. Please pay attention to the hints as well as the API documents available online."
   ]
  },
  {
   "cell_type": "code",
   "execution_count": 1,
   "metadata": {
    "ExecuteTime": {
     "end_time": "2021-03-16T09:30:39.803664Z",
     "start_time": "2021-03-16T09:30:39.481455Z"
    }
   },
   "outputs": [],
   "source": [
    "import numpy as np\n",
    "import matplotlib.pyplot as plt"
   ]
  },
  {
   "attachments": {},
   "cell_type": "markdown",
   "metadata": {},
   "source": [
    "### 2.1 Define Sigmoid Function"
   ]
  },
  {
   "cell_type": "code",
   "execution_count": 2,
   "metadata": {
    "ExecuteTime": {
     "end_time": "2021-03-16T09:30:39.808596Z",
     "start_time": "2021-03-16T09:30:39.805621Z"
    }
   },
   "outputs": [],
   "source": [
    "def sigmoid(x):\n",
    "    # TODO\n",
    "    sig_x = 1/(1 + np.exp(-x))\n",
    "    return sig_x"
   ]
  },
  {
   "attachments": {},
   "cell_type": "markdown",
   "metadata": {},
   "source": [
    "### 2.2 Define Derivative of Sigmoid Function"
   ]
  },
  {
   "cell_type": "code",
   "execution_count": 3,
   "metadata": {
    "ExecuteTime": {
     "end_time": "2021-03-16T09:30:39.820589Z",
     "start_time": "2021-03-16T09:30:39.811076Z"
    }
   },
   "outputs": [],
   "source": [
    "def derivative_sigmoid(x):\n",
    "    # TODO\n",
    "    Dsig_x = sigmoid(x) * (1 - sigmoid(x))\n",
    "    return Dsig_x"
   ]
  },
  {
   "attachments": {},
   "cell_type": "markdown",
   "metadata": {},
   "source": [
    "### 2.3 Plot Functions"
   ]
  },
  {
   "cell_type": "code",
   "execution_count": 4,
   "metadata": {
    "ExecuteTime": {
     "end_time": "2021-03-16T09:30:40.004599Z",
     "start_time": "2021-03-16T09:30:39.822565Z"
    }
   },
   "outputs": [
    {
     "data": {
      "image/png": "[encoded data removed]",
      "text/plain": [
       "<Figure size 500x500 with 1 Axes>"
      ]
     },
     "metadata": {},
     "output_type": "display_data"
    }
   ],
   "source": [
    "# TODO: plotting\n",
    "x = np.linspace(-5,5,100)\n",
    "sigx = sigmoid(x)\n",
    "dsigx = derivative_sigmoid(x)\n",
    "plt.figure(figsize = (5,5))\n",
    "plt.plot(x,sigx, x,dsigx)\n",
    "plt.show()"
   ]
  },
  {
   "attachments": {},
   "cell_type": "markdown",
   "metadata": {},
   "source": [
    "### 2.4 Define Neural Network"
   ]
  },
  {
   "cell_type": "code",
   "execution_count": 5,
   "metadata": {
    "ExecuteTime": {
     "end_time": "2021-03-16T09:30:40.009557Z",
     "start_time": "2021-03-16T09:30:40.006084Z"
    }
   },
   "outputs": [],
   "source": [
    "def forward_pass(x, w1, b1, w2, b2):\n",
    "    # TODO\n",
    "    x = x.reshape(np.shape(x)[0],1)\n",
    "    Yhat = np.matmul(w2.T, (sigmoid((w1 * x) + b1))) + b2\n",
    "    print(f\"Shape of Yhat transpose = {np.shape(Yhat.T)}\")\n",
    "    return Yhat"
   ]
  },
  {
   "attachments": {},
   "cell_type": "markdown",
   "metadata": {},
   "source": [
    "### 2.5 Define Loss Function"
   ]
  },
  {
   "cell_type": "code",
   "execution_count": 6,
   "metadata": {
    "ExecuteTime": {
     "end_time": "2021-03-16T09:30:40.017492Z",
     "start_time": "2021-03-16T09:30:40.011541Z"
    }
   },
   "outputs": [],
   "source": [
    "def mse(y_true, y_pred):\n",
    "    # TODO\n",
    "    MSE = np.mean(np.power((y_true - y_pred),2))\n",
    "    return MSE\n",
    "\n",
    "def derivative_mse(y_true, y_pred):\n",
    "    # TODO\n",
    "    Dmse = -2 * np.mean(y_true - y_pred)\n",
    "    return Dmse"
   ]
  },
  {
   "attachments": {},
   "cell_type": "markdown",
   "metadata": {},
   "source": [
    "### 2.6 Define Gradient"
   ]
  },
  {
   "cell_type": "code",
   "execution_count": 7,
   "metadata": {
    "ExecuteTime": {
     "end_time": "2021-03-16T09:30:40.026917Z",
     "start_time": "2021-03-16T09:30:40.019973Z"
    }
   },
   "outputs": [],
   "source": [
    "def cal_gradient(x, y, y_hat, w1, b1, w2, b2):\n",
    "    # TODO\n",
    "    print(f\"shape of mse der = {np.shape(derivative_mse(y, y_hat))}\")\n",
    "    print(f\"shape of sig der = {np.shape(derivative_sigmoid(w1*x + b1))}\")\n",
    "    dLdw1 = derivative_mse(y, y_hat).T * (x * w2 * derivative_sigmoid(w1*x + b1))\n",
    "    dLdw2 = derivative_mse(y, y_hat).T * sigmoid(w1*x + b1)\n",
    "    dLdb1 = derivative_mse(y, y_hat).T * (w2 * derivative_sigmoid(w1*x + b1))\n",
    "    dLdb2 = derivative_mse(y, y_hat).T\n",
    "    return dLdw1, dLdw2, dLdb1, dLdb2"
   ]
  },
  {
   "cell_type": "code",
   "execution_count": 8,
   "metadata": {},
   "outputs": [
    {
     "ename": "NameError",
     "evalue": "name 'w1' is not defined",
     "output_type": "error",
     "traceback": [
      "\u001b[1;31m---------------------------------------------------------------------------\u001b[0m",
      "\u001b[1;31mNameError\u001b[0m                                 Traceback (most recent call last)",
      "Cell \u001b[1;32mIn[8], line 1\u001b[0m\n\u001b[1;32m----> 1\u001b[0m d \u001b[39m=\u001b[39m derivative_sigmoid(w1\u001b[39m*\u001b[39mx \u001b[39m+\u001b[39m b1)\n\u001b[0;32m      2\u001b[0m \u001b[39mprint\u001b[39m(np\u001b[39m.\u001b[39mshape(d))\n",
      "\u001b[1;31mNameError\u001b[0m: name 'w1' is not defined"
     ]
    }
   ],
   "source": [
    "d = derivative_sigmoid(w1*x + b1)\n",
    "print(np.shape(d))"
   ]
  },
  {
   "attachments": {},
   "cell_type": "markdown",
   "metadata": {},
   "source": [
    "### 2.7 Update Weights"
   ]
  },
  {
   "cell_type": "code",
   "execution_count": 9,
   "metadata": {
    "ExecuteTime": {
     "end_time": "2021-03-16T09:30:40.036340Z",
     "start_time": "2021-03-16T09:30:40.030389Z"
    }
   },
   "outputs": [],
   "source": [
    "def update_parameters(w1, w2, b1, b2, dLdw1, dLdw2, dLdb1, dLdb2, learning_rate):\n",
    "    # TODO\n",
    "    w1 -= (learning_rate * dLdw1)\n",
    "    w2 -= (learning_rate * dLdw2)\n",
    "    b1 -= (learning_rate * dLdb1)\n",
    "    b2 -= (learning_rate * dLdb2)\n",
    "    return w1, w2, b1, b2\n",
    "    "
   ]
  },
  {
   "attachments": {},
   "cell_type": "markdown",
   "metadata": {},
   "source": [
    "### 2.8 Train Network"
   ]
  },
  {
   "cell_type": "code",
   "execution_count": 10,
   "metadata": {
    "ExecuteTime": {
     "end_time": "2021-03-16T09:30:57.548781Z",
     "start_time": "2021-03-16T09:30:40.038821Z"
    }
   },
   "outputs": [
    {
     "name": "stdout",
     "output_type": "stream",
     "text": [
      "Shape of Yhat transpose = (1, 1)\n",
      "(500,)\n",
      "shape of mse der = ()\n",
      "shape of sig der = (500, 500)\n"
     ]
    },
    {
     "ename": "ValueError",
     "evalue": "non-broadcastable output operand with shape (500,1) doesn't match the broadcast shape (500,500)",
     "output_type": "error",
     "traceback": [
      "\u001b[1;31m---------------------------------------------------------------------------\u001b[0m",
      "\u001b[1;31mValueError\u001b[0m                                Traceback (most recent call last)",
      "Cell \u001b[1;32mIn[10], line 34\u001b[0m\n\u001b[0;32m     32\u001b[0m     dldw1, dLdw2, dLdb1, dLdb2 \u001b[39m=\u001b[39m cal_gradient(X[row][:], Y[row][:], Y_hat, w1, b1, w2, b2)\n\u001b[0;32m     33\u001b[0m     \u001b[39m#print(np.shape(gradient))\u001b[39;00m\n\u001b[1;32m---> 34\u001b[0m     w1, w2, b1, b2 \u001b[39m=\u001b[39m update_parameters(w1, w2, b1, b2, dLdw1, dLdw2, dLdb1, dLdb2, learning_rate)\n\u001b[0;32m     35\u001b[0m     MSE \u001b[39m=\u001b[39m mse(Y, Y_hat)\n\u001b[0;32m     36\u001b[0m counter \u001b[39m+\u001b[39m\u001b[39m=\u001b[39m \u001b[39m1\u001b[39m\n",
      "Cell \u001b[1;32mIn[9], line 4\u001b[0m, in \u001b[0;36mupdate_parameters\u001b[1;34m(w1, w2, b1, b2, dLdw1, dLdw2, dLdb1, dLdb2, learning_rate)\u001b[0m\n\u001b[0;32m      1\u001b[0m \u001b[39mdef\u001b[39;00m \u001b[39mupdate_parameters\u001b[39m(w1, w2, b1, b2, dLdw1, dLdw2, dLdb1, dLdb2, learning_rate):\n\u001b[0;32m      2\u001b[0m     \u001b[39m# TODO\u001b[39;00m\n\u001b[0;32m      3\u001b[0m     w1 \u001b[39m-\u001b[39m\u001b[39m=\u001b[39m (learning_rate \u001b[39m*\u001b[39m dLdw1)\n\u001b[1;32m----> 4\u001b[0m     w2 \u001b[39m-\u001b[39;49m\u001b[39m=\u001b[39;49m (learning_rate \u001b[39m*\u001b[39;49m dLdw2)\n\u001b[0;32m      5\u001b[0m     b1 \u001b[39m-\u001b[39m\u001b[39m=\u001b[39m (learning_rate \u001b[39m*\u001b[39m dLdb1)\n\u001b[0;32m      6\u001b[0m     b2 \u001b[39m-\u001b[39m\u001b[39m=\u001b[39m (learning_rate \u001b[39m*\u001b[39m dLdb2)\n",
      "\u001b[1;31mValueError\u001b[0m: non-broadcastable output operand with shape (500,1) doesn't match the broadcast shape (500,500)"
     ]
    }
   ],
   "source": [
    "# TODO: datasets\n",
    "X = np.linspace(-1,1,1000) \n",
    "Y = 0.1 * X + (X**2) + (X**3)\n",
    "X = X.reshape(2,500)\n",
    "Y = Y.reshape(2,500)\n",
    "#print(X)\n",
    "# TODO: hyperparameters\n",
    "learning_rate = 0.01\n",
    "hidden_neurons = 500\n",
    "epochs = 5000\n",
    "# TODO: parameter initialization\n",
    "np.random.seed(seed = 42)\n",
    "w1 = np.random.standard_normal(size = (hidden_neurons,1))\n",
    "w2 = np.random.standard_normal(size = (hidden_neurons,1))\n",
    "b1 = np.zeros(shape = (hidden_neurons,1))\n",
    "b2 = 0\n",
    "dLdw1 = 0.0\n",
    "dLdw2 = 0.0\n",
    "dLdb1 = 0.0\n",
    "dLdb2 = 0.0\n",
    "# TODO: training\n",
    "counter = 0\n",
    "i = 0\n",
    "for it in range(epochs):\n",
    "    if counter == 500:\n",
    "        counter = 0\n",
    "        i += 1\n",
    "        print(f\"The loss for the {i*500}th epoch is: {MSE}\\n\")\n",
    "    for row in range(np.shape(X)[0]):\n",
    "        Y_hat = forward_pass(X[row][:], w1, b1, w2, b2)\n",
    "        print(np.shape(Y[row][:]))\n",
    "        dldw1, dLdw2, dLdb1, dLdb2 = cal_gradient(X[row][:], Y[row][:], Y_hat, w1, b1, w2, b2)\n",
    "        #print(np.shape(gradient))\n",
    "        w1, w2, b1, b2 = update_parameters(w1, w2, b1, b2, dLdw1, dLdw2, dLdb1, dLdb2, learning_rate)\n",
    "        MSE = mse(Y, Y_hat)\n",
    "    counter += 1\n",
    "    "
   ]
  },
  {
   "cell_type": "code",
   "execution_count": null,
   "metadata": {},
   "outputs": [],
   "source": [
    "d = derivative_sigmoid(w1*x + b1)\n",
    "print(np.shape(d))"
   ]
  },
  {
   "attachments": {},
   "cell_type": "markdown",
   "metadata": {},
   "source": [
    "### 2.9 Plot Results"
   ]
  },
  {
   "cell_type": "code",
   "execution_count": null,
   "metadata": {
    "ExecuteTime": {
     "end_time": "2021-03-16T09:30:57.704013Z",
     "start_time": "2021-03-16T09:30:57.549746Z"
    }
   },
   "outputs": [],
   "source": [
    "# TODO: plotting for comparison between the prediction and ground truth"
   ]
  },
  {
   "cell_type": "code",
   "execution_count": null,
   "metadata": {
    "ExecuteTime": {
     "end_time": "2021-03-16T09:30:57.804689Z",
     "start_time": "2021-03-16T09:30:57.705985Z"
    }
   },
   "outputs": [],
   "source": [
    "# TODO: plotting for the loss"
   ]
  }
 ],
 "metadata": {
  "kernelspec": {
   "display_name": "Python 3 (ipykernel)",
   "language": "python",
   "name": "python3"
  },
  "language_info": {
   "codemirror_mode": {
    "name": "ipython",
    "version": 3
   },
   "file_extension": ".py",
   "mimetype": "text/x-python",
   "name": "python",
   "nbconvert_exporter": "python",
   "pygments_lexer": "ipython3",
   "version": "3.11.4"
  },
  "toc": {
   "base_numbering": 1,
   "nav_menu": {},
   "number_sections": false,
   "sideBar": false,
   "skip_h1_title": false,
   "title_cell": "Table of Contents",
   "title_sidebar": "Contents",
   "toc_cell": false,
   "toc_position": {
    "height": "830.4px",
    "left": "1576.4px",
    "top": "88.6px",
    "width": "409.6px"
   },
   "toc_section_display": true,
   "toc_window_display": true
  }
 },
 "nbformat": 4,
 "nbformat_minor": 4
}
